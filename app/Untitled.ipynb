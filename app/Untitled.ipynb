{
 "cells": [
  {
   "cell_type": "code",
   "execution_count": 5,
   "id": "50597bc5-f6f2-409c-8678-eacc65ce02ff",
   "metadata": {},
   "outputs": [],
   "source": [
    "def calculate_area(length, width):\n",
    "    \"\"\"長方形の面積を計算する関数\"\"\"\n",
    "    return length * width"
   ]
  },
  {
   "cell_type": "code",
   "execution_count": 6,
   "id": "f64c2494-1a75-41f2-9cfe-ff1ffe53cddc",
   "metadata": {},
   "outputs": [
    {
     "name": "stdout",
     "output_type": "stream",
     "text": [
      "🐍 Python学習環境へようこそ！\n",
      "==================================================\n",
      "1. 基本的なデータ型\n",
      "数値: 42\n",
      "文字列: Hello, Python!\n",
      "真偽値: True\n",
      "\n",
      "2. リストと辞書\n",
      "フルーツリスト: ['apple', 'banana', 'orange']\n",
      "人物情報: {'name': '太郎', 'age': 25, 'city': '東京'}\n",
      "\n",
      "3. ループ処理\n",
      "1. apple\n",
      "2. banana\n",
      "3. orange\n",
      "\n",
      "4. 関数の使用例\n",
      "長方形の面積 (5x3): 15\n",
      "\n",
      "5. リスト内包表記\n",
      "1-5の二乗: [1, 4, 9, 16, 25]\n"
     ]
    }
   ],
   "source": [
    "    print(\"🐍 Python学習環境へようこそ！\")\n",
    "    print(\"=\" * 50)\n",
    "\n",
    "    # 基本的なデータ型\n",
    "    print(\"1. 基本的なデータ型\")\n",
    "    number = 42\n",
    "    text = \"Hello, Python!\"\n",
    "    is_learning = True\n",
    "\n",
    "    print(f\"数値: {number}\")\n",
    "    print(f\"文字列: {text}\")\n",
    "    print(f\"真偽値: {is_learning}\")\n",
    "\n",
    "    # リストと辞書\n",
    "    print(\"\\n2. リストと辞書\")\n",
    "    fruits = [\"apple\", \"banana\", \"orange\"]\n",
    "    person = {\n",
    "        \"name\": \"太郎\",\n",
    "        \"age\": 25,\n",
    "        \"city\": \"東京\"\n",
    "    }\n",
    "\n",
    "    print(f\"フルーツリスト: {fruits}\")\n",
    "    print(f\"人物情報: {person}\")\n",
    "\n",
    "    # ループ処理\n",
    "    print(\"\\n3. ループ処理\")\n",
    "    for i, fruit in enumerate(fruits, 1):\n",
    "        print(f\"{i}. {fruit}\")\n",
    "\n",
    "    # 関数の使用例\n",
    "    print(\"\\n4. 関数の使用例\")\n",
    "    result = calculate_area(5, 3)\n",
    "    print(f\"長方形の面積 (5x3): {result}\")\n",
    "\n",
    "    # リスト内包表記\n",
    "    print(\"\\n5. リスト内包表記\")\n",
    "    squares = [x**2 for x in range(1, 6)]\n",
    "    print(f\"1-5の二乗: {squares}\")"
   ]
  }
 ],
 "metadata": {
  "kernelspec": {
   "display_name": "Python 3 (ipykernel)",
   "language": "python",
   "name": "python3"
  },
  "language_info": {
   "codemirror_mode": {
    "name": "ipython",
    "version": 3
   },
   "file_extension": ".py",
   "mimetype": "text/x-python",
   "name": "python",
   "nbconvert_exporter": "python",
   "pygments_lexer": "ipython3",
   "version": "3.11.13"
  }
 },
 "nbformat": 4,
 "nbformat_minor": 5
}
